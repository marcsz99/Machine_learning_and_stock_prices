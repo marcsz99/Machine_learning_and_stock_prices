{
 "cells": [
  {
   "cell_type": "code",
   "execution_count": 1,
   "id": "0b011851",
   "metadata": {},
   "outputs": [],
   "source": [
    "import pandas_datareader as pdr\n",
    "data = pdr.get_data_yahoo('NVDA')"
   ]
  },
  {
   "cell_type": "code",
   "execution_count": 2,
   "id": "e41263af",
   "metadata": {},
   "outputs": [],
   "source": [
    "#Convert to np array\n",
    "import pandas as pd\n",
    "import numpy as np\n",
    "\n",
    "datanp = data.to_numpy()"
   ]
  },
  {
   "cell_type": "code",
   "execution_count": 4,
   "id": "20784f9d",
   "metadata": {},
   "outputs": [],
   "source": [
    "def get_data_re(stock_data, no_days = 20):\n",
    "    \"\"\"\n",
    "    Input \n",
    "    -----\n",
    "    This function takes a n*x numpy array as input.\n",
    "    n = number of days\n",
    "    x = number of stock atrributes \n",
    "    \n",
    "    Output\n",
    "    -----\n",
    "    A numpy array with x*10 + 1 cols. Each set of x cols contains stock data for a previous day.\n",
    "    The last col contains a 1 if the stock has gone up since the previous and a 0 if it hasn't \n",
    "    \n",
    "    \"\"\"\n",
    "    \n",
    "    num_days = stock_data.shape[0] # variable containg number of days in stock data\n",
    "    num_attr = stock_data.shape[1] # variable containg number of attributes per day \n",
    "    num_out_days = num_days - no_days # number of outputed days \n",
    "    \n",
    "    output_data = np.zeros((num_out_days, 20 + 1))\n",
    "    \n",
    "    for i in range(no_days, num_days):\n",
    "        \n",
    "        samp_attr = stock_data[(i - no_days):i, 3] # get previous 20 days of stock data \n",
    "        \n",
    "        samp_attr = samp_attr.flatten() # get all smaple observations in one row \n",
    "        \n",
    "        samp_label = stock_data[i, 3]\n",
    "        \n",
    "        full_samp = np.append(samp_attr, samp_label) # combine attributes and label to get full sample\n",
    "        \n",
    "        output_data[i - no_days] = full_samp\n",
    "        \n",
    "    return output_data\n",
    "        "
   ]
  },
  {
   "cell_type": "code",
   "execution_count": 4,
   "id": "739aa270",
   "metadata": {},
   "outputs": [],
   "source": [
    "regres_data = get_data_re(datanp)\n"
   ]
  },
  {
   "cell_type": "code",
   "execution_count": 5,
   "id": "e1fc7e68",
   "metadata": {},
   "outputs": [
    {
     "name": "stdout",
     "output_type": "stream",
     "text": [
      "(928, 60) (928,)\n"
     ]
    }
   ],
   "source": [
    "from sklearn.model_selection import train_test_split \n",
    "\n",
    "X_train, X_test, y_train, y_test = train_test_split(regres_data[:, :60], regres_data[:, 60], random_state = 211)\n",
    "print(X_train.shape, y_train.shape)"
   ]
  },
  {
   "cell_type": "code",
   "execution_count": 6,
   "id": "3873a4c9",
   "metadata": {},
   "outputs": [
    {
     "name": "stdout",
     "output_type": "stream",
     "text": [
      "The generlaization accuracy is: [0.99363958 0.99433238 0.99314895 0.99215812 0.99435802]\n",
      "0.993527410488156\n"
     ]
    }
   ],
   "source": [
    "from sklearn.neural_network import MLPRegressor\n",
    "from sklearn.model_selection import cross_val_score\n",
    "mlp = MLPRegressor(random_state = 3, max_iter = 1000)\n",
    "print('The generlaization accuracy is:', cross_val_score(mlp, X_train, y_train))\n",
    "print(np.mean(cross_val_score(mlp, X_train, y_train)))"
   ]
  },
  {
   "cell_type": "code",
   "execution_count": 7,
   "id": "2ade8f04",
   "metadata": {},
   "outputs": [
    {
     "name": "stdout",
     "output_type": "stream",
     "text": [
      "Best cross-validation accuracy: 0.9954416216021447\n",
      "Best parameters: {'alpha': 0.0025, 'beta_1': 0.99}\n"
     ]
    }
   ],
   "source": [
    "from sklearn.model_selection import GridSearchCV\n",
    "param_grid = {'alpha' :  [0.0035, 0.0025, 0.0015], 'beta_1' : [0.981, 0.99, 0.999]  }\n",
    "\n",
    "grid = GridSearchCV(mlp, param_grid = param_grid, cv = 5)\n",
    "grid.fit(X_train, y_train)\n",
    "\n",
    "print(\"Best cross-validation accuracy:\", grid.best_score_ )\n",
    "print(\"Best parameters:\", grid.best_params_ )"
   ]
  },
  {
   "cell_type": "code",
   "execution_count": 8,
   "id": "2a39c122",
   "metadata": {},
   "outputs": [
    {
     "data": {
      "text/plain": [
       "0.9959626558094964"
      ]
     },
     "execution_count": 8,
     "metadata": {},
     "output_type": "execute_result"
    }
   ],
   "source": [
    "# Test for reproducibility with test set\n",
    "mlp = MLPRegressor(random_state = 3, alpha = 0.0025, beta_1 = 0.99, max_iter = 1000)\n",
    "mlp.fit(X_train, y_train)\n",
    "mlp.score(X_test, y_test)"
   ]
  },
  {
   "cell_type": "code",
   "execution_count": 9,
   "id": "426c741f",
   "metadata": {
    "scrolled": true
   },
   "outputs": [
    {
     "data": {
      "text/plain": [
       "[<matplotlib.lines.Line2D at 0x29cb7490130>]"
      ]
     },
     "execution_count": 9,
     "metadata": {},
     "output_type": "execute_result"
    },
    {
     "data": {
      "image/png": "[encoded data removed]",
      "text/plain": [
       "<Figure size 432x288 with 1 Axes>"
      ]
     },
     "metadata": {
      "needs_background": "light"
     },
     "output_type": "display_data"
    }
   ],
   "source": [
    "import matplotlib.pyplot as plt\n",
    "\n",
    "last_270 = datanp[-270:] #last 270 days as +20 days of data needed for model\n",
    "last_250_model_data = get_data_re(last_270) # get last 250 days of model data\n",
    "last_250_X = last_250_model_data[:, :60] # get the unlabled data \n",
    "last_250_y = last_250_model_data[:, 60] # get the labels \n",
    "y_pred = mlp.predict(last_250_X) # get model predictions \n",
    "\n",
    "plt.plot(last_250_y)\n",
    "plt.plot(y_pred)"
   ]
  },
  {
   "cell_type": "code",
   "execution_count": 10,
   "id": "764c60e7",
   "metadata": {
    "scrolled": true
   },
   "outputs": [
    {
     "data": {
      "text/plain": [
       "-383.1772524888878"
      ]
     },
     "execution_count": 10,
     "metadata": {},
     "output_type": "execute_result"
    }
   ],
   "source": [
    "np.sum(last_250_y - y_pred)"
   ]
  },
  {
   "cell_type": "code",
   "execution_count": 11,
   "id": "b410a007",
   "metadata": {
    "scrolled": true
   },
   "outputs": [
    {
     "data": {
      "text/plain": [
       "<matplotlib.legend.Legend at 0x29cb7595250>"
      ]
     },
     "execution_count": 11,
     "metadata": {},
     "output_type": "execute_result"
    },
    {
     "data": {
      "image/png": "[encoded data removed]",
      "text/plain": [
       "<Figure size 432x288 with 1 Axes>"
      ]
     },
     "metadata": {
      "needs_background": "light"
     },
     "output_type": "display_data"
    }
   ],
   "source": [
    "#Tends to underpredict increase in stock. So, if increase is seen good buy signal\n",
    "\n",
    "money = 100\n",
    "mon_change = np.zeros(249)\n",
    "\n",
    "# using buy neral net stratergy \n",
    "for i in range(249):\n",
    "    current_price = last_250_y[i]\n",
    "    next_price = last_250_y[i + 1]\n",
    "    current_data = last_250_X[i + 1]\n",
    "    prediction = y_pred[i + 1]\n",
    "    if prediction > current_price: # buy sig\n",
    "        money = money * (next_price / current_price)\n",
    "    mon_change[i] = money\n",
    "\n",
    "money2 = 100    \n",
    "mon_change2 = np.zeros(249)\n",
    "# just simply buying and seling every day\n",
    "for i in range(249):\n",
    "    current_price = last_250_y[i]\n",
    "    next_price = last_250_y[i + 1]\n",
    "    money2 = money2 * (next_price  / current_price)\n",
    "    mon_change2[i] = money2\n",
    "\n",
    "money3 = 100\n",
    "mon_change3 = np.zeros(249)\n",
    "#using a buy sell strategy based on neural net \n",
    "for i in range(249):\n",
    "    current_price = last_250_y[i]\n",
    "    next_price = last_250_y[i + 1]\n",
    "    current_data = last_250_X[i + 1]\n",
    "    prediction = y_pred[i + 1]\n",
    "    \n",
    "    if prediction > current_price: # buy sig\n",
    "        money3 = money3 * (next_price / current_price)\n",
    "    else: #sell signal \n",
    "        money3 = money3 * (current_price / next_price)\n",
    "        \n",
    "    mon_change3[i] = money3\n",
    "\n",
    "money4 = 100\n",
    "mon_change4 = np.zeros(249)\n",
    "#using a buy sell strategy based on neural net \n",
    "for i in range(249):\n",
    "    current_price = last_250_y[i]\n",
    "    next_price = last_250_y[i + 1]\n",
    "    current_data = last_250_X[i + 1]\n",
    "    prediction = y_pred[i + 1]\n",
    "    \n",
    "    if prediction < current_price: # sell sig\n",
    "        money4 = money4 * (current_price / next_price)\n",
    "        \n",
    "    mon_change4[i] = money4\n",
    "\n",
    "plt.plot(mon_change, label = 'buy neural')\n",
    "plt.plot(mon_change2, label = 'buy every day')\n",
    "plt.plot(mon_change3, label = 'buy/ sell neural')\n",
    "plt.plot(mon_change4, label = 'sell neural')\n",
    "plt.legend()"
   ]
  },
  {
   "cell_type": "code",
   "execution_count": 12,
   "id": "5e5822f0",
   "metadata": {},
   "outputs": [],
   "source": [
    "import copy\n",
    "from sklearn.model_selection import KFold\n",
    "\n",
    "def cross_conform_reg(X_train, y_train, mlp, e = 0.2):\n",
    "\n",
    "    kf = KFold(shuffle = True, random_state = 211)\n",
    "    all_non_conform = np.array([]) # empty array to store all non conformity scores \n",
    "\n",
    "    for rest_indx, fold_indx in kf.split(X_train):\n",
    "        X_rest, X_fold = X_train[rest_indx], X_train[fold_indx] # fold is used as calibration set\n",
    "        y_rest, y_fold = y_train[rest_indx], y_train[fold_indx]\n",
    "        current_model = copy.deepcopy(mlp) # make a copy to prevent variable inheritance\n",
    "        current_model.fit(X_rest, y_rest) # fit the current model with the data not in the current fold\n",
    "        \n",
    "        y_hat = current_model.predict(X_fold) # find the predictions for every sample \n",
    "        current_nonconform = np.absolute(y_fold - y_hat)  # calculate non conformity scores \n",
    "        all_non_conform = np.append(all_non_conform, current_nonconform) #append current non conform scores to all\n",
    "    \n",
    "    non_conform = np.sort(all_non_conform) # sort the non confromity scores in accending order \n",
    "\n",
    "    k = int((1 - e) * (non_conform.size + 1)) # calculate the non-confimity index for given e \n",
    "    c = non_conform[k] # obtain the non-conformity score which satisfies e (-1 as python indexs from o)\n",
    "    \n",
    "    return c\n",
    "    \n",
    "\n"
   ]
  },
  {
   "cell_type": "code",
   "execution_count": 13,
   "id": "711846eb",
   "metadata": {},
   "outputs": [
    {
     "data": {
      "text/plain": [
       "4.499302721762298"
      ]
     },
     "execution_count": 13,
     "metadata": {},
     "output_type": "execute_result"
    }
   ],
   "source": [
    "mlp = MLPRegressor(random_state = 3, alpha = 0.0025, beta_1 = 0.99, max_iter = 1000)\n",
    "c = cross_conform_reg(X_train, y_train, mlp, e = 0.2)\n",
    "c"
   ]
  },
  {
   "cell_type": "markdown",
   "id": "b30941d3",
   "metadata": {},
   "source": [
    "Find the test error rate of the indiuctive conformal predictor "
   ]
  },
  {
   "cell_type": "code",
   "execution_count": 29,
   "id": "16546343",
   "metadata": {},
   "outputs": [],
   "source": [
    "def cross_conform_error(X_test, y_test, c, mlp):\n",
    "    y_hat = mlp.predict(X_test) # get predicted y values\n",
    "    error = np.zeros(y_test.size)\n",
    "    \n",
    "    for i in range(y_test.size):\n",
    "        current_prediction = y_hat[i]\n",
    "        lower_bound = current_prediction - c\n",
    "        upper_bound = current_prediction + c\n",
    "        \n",
    "        if y_test[i] < lower_bound or y_test[i] > upper_bound:\n",
    "            error[i] = 1 \n",
    "    \n",
    "    error_rate = np.sum(error) / y_test.size\n",
    "    \n",
    "    return error_rate \n",
    "        "
   ]
  },
  {
   "cell_type": "code",
   "execution_count": 30,
   "id": "615ab54f",
   "metadata": {
    "scrolled": true
   },
   "outputs": [
    {
     "name": "stdout",
     "output_type": "stream",
     "text": [
      "0.1967741935483871\n"
     ]
    }
   ],
   "source": [
    "mlp = MLPRegressor(random_state = 3, alpha = 0.0025, beta_1 = 0.99, max_iter = 1000)\n",
    "mlp.fit(X_train, y_train)\n",
    "print(cross_conform_error(X_test, y_test, c, mlp))"
   ]
  },
  {
   "cell_type": "markdown",
   "id": "c2c408c3",
   "metadata": {},
   "source": [
    "The test error rate is close yo the 0.2 level suggesting that the prediction set is valid."
   ]
  },
  {
   "cell_type": "code",
   "execution_count": 31,
   "id": "f21ab538",
   "metadata": {
    "scrolled": false
   },
   "outputs": [
    {
     "data": {
      "text/plain": [
       "[<matplotlib.lines.Line2D at 0x1a580347670>]"
      ]
     },
     "execution_count": 31,
     "metadata": {},
     "output_type": "execute_result"
    },
    {
     "data": {
      "image/png": "[encoded data removed]",
      "text/plain": [
       "<Figure size 432x288 with 1 Axes>"
      ]
     },
     "metadata": {
      "needs_background": "light"
     },
     "output_type": "display_data"
    }
   ],
   "source": [
    "# plot this prediction interval with the last 250 days of stock data\n",
    "lower_pred = y_pred - c\n",
    "upper_pred = y_pred + c\n",
    "\n",
    "plt.plot(y_pred)\n",
    "plt.plot(lower_pred, linestyle = '--', color = 'red')\n",
    "plt.plot(upper_pred, linestyle = '--', color = 'red')"
   ]
  },
  {
   "cell_type": "markdown",
   "id": "6a65a872",
   "metadata": {},
   "source": [
    "Now, i will try a new buy sell stratergy. If the prediction is a increase higher than c than there is a very good chance that the stock will go up.As, the lower bound is at or below the current price. Therefore, this can be taken as a buy signal. In a similar way a decrease lower than c can be interpreted as a sell signal. "
   ]
  },
  {
   "cell_type": "code",
   "execution_count": 32,
   "id": "b87aa242",
   "metadata": {
    "scrolled": false
   },
   "outputs": [
    {
     "data": {
      "text/plain": [
       "[<matplotlib.lines.Line2D at 0x1a5803b9160>]"
      ]
     },
     "execution_count": 32,
     "metadata": {},
     "output_type": "execute_result"
    },
    {
     "data": {
      "image/png": "[encoded data removed]",
      "text/plain": [
       "<Figure size 432x288 with 1 Axes>"
      ]
     },
     "metadata": {
      "needs_background": "light"
     },
     "output_type": "display_data"
    }
   ],
   "source": [
    "# using buy neral net stratergy \n",
    "money = 100\n",
    "mon_change = np.zeros(249)\n",
    "mon_change[0] = money\n",
    "\n",
    "for i in range(249):\n",
    "    current_price = last_250_y[i]\n",
    "    next_price = last_250_y[i + 1]\n",
    "    prediction = y_pred[i + 1]\n",
    "    if prediction > current_price + c: # buy sig\n",
    "        money = money * (next_price / current_price)\n",
    "    elif current_price < prediction - c: # sell sig\n",
    "        money = money * (next_price / current_price)\n",
    "    \n",
    "    mon_change[i] = money\n",
    "\n",
    "plt.plot(mon_change)\n"
   ]
  },
  {
   "cell_type": "markdown",
   "id": "bf6d2e7d",
   "metadata": {},
   "source": [
    "Now, I will experiment performance with different error rates. "
   ]
  },
  {
   "cell_type": "code",
   "execution_count": 36,
   "id": "75774e54",
   "metadata": {},
   "outputs": [],
   "source": [
    "def error_perform(actual_prices, predicted_prices, c):\n",
    "    \"\"\"\n",
    "    Input\n",
    "    -------\n",
    "    actual_prices: A n by 1 numpy array containg the real prices of a particular stock.\n",
    "    predicted_prices: A n by 1 numpy array containg the prices predicted by a model of particular stock.\n",
    "    c: A numpy array conting a prediction boundary for each error rate\n",
    "    \n",
    "    Output\n",
    "    -------\n",
    "    Net_gain: Net gain over 100 pounds invested using a trading stratergy based off model predictions and confromal prediction \n",
    "    interval\n",
    "    Total_loses: Total daily loses over a n - 1 day period.\n",
    "    \"\"\"\n",
    "    \n",
    "    num_er = c.size # number of error rates being tested\n",
    "    days_tested = actual_prices.size - 1 # number of days being tested \n",
    "    Net_gain = np.zeros(num_er) \n",
    "    Total_loses = np.zeros(num_er)\n",
    "    \n",
    "    for i in range(num_er):\n",
    "        current_c = c[i]\n",
    "        money = 100\n",
    "        mon_change = np.zeros(days_tested) # change in money invested for each day\n",
    "        loses = np.zeros(days_tested) # daily loses \n",
    "        \n",
    "        for j in range(days_tested):\n",
    "            current_price = actual_prices[j]\n",
    "            next_price = actual_prices[j + 1]\n",
    "            prediction = predicted_prices[j + 1]\n",
    "            \n",
    "            if prediction > current_price + current_c: # buy sig\n",
    "                money = money * (next_price / current_price)\n",
    "            elif current_price < prediction - current_c: # sell sig\n",
    "                money = money[j] * (next_price / current_price)\n",
    "            \n",
    "            mon_change[j] = money # record money for the day\n",
    "            \n",
    "            if mon_change[j] < mon_change[j - 1]: # if there is a loss\n",
    "                loses[j] = mon_change[j] - mon_change[j - 1]\n",
    "            \n",
    "        Net_gain[i] = mon_change[-1] - 100 # store net gain and total loses for error rate\n",
    "        Total_loses[i] = np.sum(loses)\n",
    "    \n",
    "    return Net_gain, Total_loses"
   ]
  },
  {
   "cell_type": "code",
   "execution_count": 44,
   "id": "424ada4b",
   "metadata": {
    "scrolled": true
   },
   "outputs": [
    {
     "name": "stdout",
     "output_type": "stream",
     "text": [
      "Itertation 0\n",
      "Itertation 1\n",
      "Itertation 2\n",
      "Itertation 3\n",
      "Itertation 4\n",
      "Itertation 5\n",
      "Itertation 6\n",
      "Itertation 7\n",
      "Itertation 8\n",
      "Itertation 9\n",
      "Itertation 10\n",
      "Itertation 11\n",
      "Itertation 12\n",
      "Itertation 13\n",
      "Itertation 14\n",
      "Itertation 15\n",
      "Itertation 16\n",
      "Itertation 17\n",
      "Itertation 18\n",
      "Itertation 19\n",
      "Itertation 20\n",
      "Itertation 21\n",
      "Itertation 22\n",
      "Itertation 23\n",
      "Itertation 24\n",
      "Itertation 25\n",
      "Itertation 26\n",
      "Itertation 27\n",
      "Itertation 28\n",
      "Itertation 29\n",
      "Itertation 30\n",
      "Itertation 31\n",
      "Itertation 32\n",
      "Itertation 33\n",
      "Itertation 34\n",
      "Itertation 35\n",
      "Itertation 36\n",
      "Itertation 37\n",
      "Itertation 38\n",
      "Itertation 39\n",
      "Itertation 40\n",
      "Itertation 41\n",
      "Itertation 42\n",
      "Itertation 43\n",
      "Itertation 44\n",
      "Itertation 45\n",
      "Itertation 46\n",
      "Itertation 47\n",
      "Itertation 48\n",
      "Itertation 49\n",
      "Itertation 50\n",
      "Itertation 51\n",
      "Itertation 52\n",
      "Itertation 53\n",
      "Itertation 54\n",
      "Itertation 55\n",
      "Itertation 56\n",
      "Itertation 57\n",
      "Itertation 58\n",
      "Itertation 59\n",
      "Itertation 60\n",
      "Itertation 61\n",
      "Itertation 62\n",
      "Itertation 63\n",
      "Itertation 64\n",
      "Itertation 65\n",
      "Itertation 66\n",
      "Itertation 67\n",
      "Itertation 68\n",
      "Itertation 69\n",
      "Itertation 70\n",
      "Itertation 71\n",
      "Itertation 72\n",
      "Itertation 73\n",
      "Itertation 74\n",
      "Itertation 75\n",
      "Itertation 76\n",
      "Itertation 77\n",
      "Itertation 78\n",
      "Itertation 79\n",
      "Itertation 80\n",
      "Itertation 81\n",
      "Itertation 82\n",
      "Itertation 83\n",
      "Itertation 84\n",
      "Itertation 85\n",
      "Itertation 86\n",
      "Itertation 87\n",
      "Itertation 88\n",
      "Itertation 89\n",
      "Itertation 90\n",
      "Itertation 91\n",
      "Itertation 92\n",
      "Itertation 93\n",
      "Itertation 94\n",
      "Itertation 95\n",
      "Itertation 96\n",
      "Itertation 97\n",
      "Itertation 98\n"
     ]
    }
   ],
   "source": [
    "error_rates = np.arange(0.01, 1, 0.01)\n",
    "prediction_boundary = np.zeros(error_rates.size)\n",
    "\n",
    "for i in range(error_rates.size): # calculate prediction sets\n",
    "    mlp = MLPRegressor(random_state = 3, alpha = 0.0025, beta_1 = 0.99, max_iter = 1000)\n",
    "    prediction_boundary[i] = cross_conform_reg(X_train, y_train, mlp, e = error_rates[i])\n",
    "    print('Itertation', i)\n",
    "\n"
   ]
  },
  {
   "cell_type": "code",
   "execution_count": 37,
   "id": "73de76ae",
   "metadata": {},
   "outputs": [
    {
     "data": {
      "text/plain": [
       "array([1.01714835e-03, 1.34268513e+00, 4.01801101e+00, 6.39539984e+00,\n",
       "       9.94456078e+00, 2.13132420e+01])"
      ]
     },
     "execution_count": 37,
     "metadata": {},
     "output_type": "execute_result"
    }
   ],
   "source": [
    "prediction_boundary"
   ]
  },
  {
   "cell_type": "code",
   "execution_count": 45,
   "id": "2b695ee4",
   "metadata": {},
   "outputs": [],
   "source": [
    "gain, loses = error_perform(last_250_y, y_pred, prediction_boundary)"
   ]
  },
  {
   "cell_type": "code",
   "execution_count": 41,
   "id": "d9d61245",
   "metadata": {
    "scrolled": true
   },
   "outputs": [
    {
     "data": {
      "text/plain": [
       "array([63.39659107, 10.60777877, 17.55478603, 12.30459292,  8.47501173,\n",
       "        0.        ])"
      ]
     },
     "execution_count": 41,
     "metadata": {},
     "output_type": "execute_result"
    }
   ],
   "source": [
    "gain"
   ]
  },
  {
   "cell_type": "code",
   "execution_count": 42,
   "id": "09f0484c",
   "metadata": {
    "scrolled": true
   },
   "outputs": [
    {
     "data": {
      "text/plain": [
       "array([-226.20520091, -123.1356937 ,  -56.44916049,  -34.3071477 ,\n",
       "          0.        ,    0.        ])"
      ]
     },
     "execution_count": 42,
     "metadata": {},
     "output_type": "execute_result"
    }
   ],
   "source": [
    "loses"
   ]
  },
  {
   "cell_type": "code",
   "execution_count": 46,
   "id": "9f0dd8f9",
   "metadata": {
    "scrolled": true
   },
   "outputs": [
    {
     "data": {
      "text/plain": [
       "Text(0, 0.5, 'Money in £')"
      ]
     },
     "execution_count": 46,
     "metadata": {},
     "output_type": "execute_result"
    },
    {
     "data": {
      "image/png": "[encoded data removed]",
      "text/plain": [
       "<Figure size 432x288 with 1 Axes>"
      ]
     },
     "metadata": {
      "needs_background": "light"
     },
     "output_type": "display_data"
    }
   ],
   "source": [
    "plt.plot(error_rates, gain, label = 'Net gain')\n",
    "plt.plot(error_rates, loses, label = 'Total_loses')\n",
    "plt.legend\n",
    "plt.xlabel('error rate')\n",
    "plt.ylabel('Money in £')"
   ]
  },
  {
   "cell_type": "code",
   "execution_count": 47,
   "id": "d15acb0e",
   "metadata": {},
   "outputs": [
    {
     "data": {
      "text/plain": [
       "Text(0, 0.5, 'Money in £')"
      ]
     },
     "execution_count": 47,
     "metadata": {},
     "output_type": "execute_result"
    },
    {
     "data": {
      "image/png": "[encoded data removed]",
      "text/plain": [
       "<Figure size 432x288 with 1 Axes>"
      ]
     },
     "metadata": {
      "needs_background": "light"
     },
     "output_type": "display_data"
    }
   ],
   "source": [
    "plt.plot(error_rates[0:20], gain[0:20], label = 'Net gain')\n",
    "plt.plot(error_rates[0:20], loses[0:20], label = 'Total_loses')\n",
    "plt.legend\n",
    "plt.xlabel('error rate')\n",
    "plt.ylabel('Money in £')"
   ]
  },
  {
   "cell_type": "code",
   "execution_count": 26,
   "id": "252c5821",
   "metadata": {},
   "outputs": [],
   "source": [
    "import numpy as np\n",
    "import copy\n",
    "from sklearn.model_selection import KFold\n",
    "import matplotlib.pyplot as plt\n",
    "\n",
    "\n",
    "class cross_confrom_regress():\n",
    "    \n",
    "    \n",
    "    def __init__(self, X_train, y_train, model):\n",
    "        self.X_train = X_train\n",
    "        self.y_train = y_train\n",
    "        self.model = model\n",
    "        self.fitted_model = model.fit(X_train, y_train)\n",
    "        \n",
    "        \n",
    "    def get_prediction_interval(self, e, get_test_error = False, X_test = None, y_test = None):\n",
    "        \n",
    "        \"\"\"\n",
    "        This function gives the prediction interval for a particular error rate e. The validity of that particular interval\n",
    "        can be checked by using the the interval test error rate. To do this set get_test_error = True.\n",
    "        \"\"\"\n",
    "        X_train = self.X_train # get object attributes \n",
    "        y_train = self.y_train\n",
    "        model = self.model\n",
    "        \n",
    "        kf = KFold(shuffle = True, random_state = 211)\n",
    "        all_non_conform = np.array([]) # empty array to store all non conformity scores \n",
    "\n",
    "        for rest_indx, fold_indx in kf.split(X_train):\n",
    "            X_rest, X_fold = X_train[rest_indx], X_train[fold_indx] # fold is used as calibration set\n",
    "            y_rest, y_fold = y_train[rest_indx], y_train[fold_indx]\n",
    "            current_model = copy.deepcopy(model) # make a copy to prevent variable inheritance\n",
    "            current_model.fit(X_rest, y_rest) # fit the current model with the data not in the current fold\n",
    "        \n",
    "            y_hat = current_model.predict(X_fold) # find the predictions for every sample \n",
    "            current_nonconform = np.absolute(y_fold - y_hat)  # calculate non conformity scores \n",
    "            all_non_conform = np.append(all_non_conform, current_nonconform) #append current non conform scores to all\n",
    "    \n",
    "        non_conform = np.sort(all_non_conform) # sort the non confromity scores in accending order \n",
    "\n",
    "        k = int((1 - e) * (non_conform.size + 1)) # calculate the non-confimity index for given e \n",
    "        c = non_conform[k] # obtain the non-conformity score which satisfies e (-1 as python indexs from o)\n",
    "        \n",
    "        prediction_interval = c # set c as the prediction interval\n",
    "        \n",
    "        if get_test_error == True:\n",
    "            \n",
    "            fitted_model = self.fitted_model\n",
    "            current_model = copy.deepcopy(fitted_model) # get a copy of the fitted model\n",
    "            y_hat = current_model.predict(X_test) # get predicted y values for the test set \n",
    "            error = np.zeros(y_test.size) # create an empty \n",
    "    \n",
    "            for i in range(y_test.size):\n",
    "                current_prediction = y_hat[i] # get the current y_hat\n",
    "                lower_bound = current_prediction - c # get the upper and lower bounds of the curent y hat\n",
    "                upper_bound = current_prediction + c\n",
    "        \n",
    "                if y_test[i] < lower_bound or y_test[i] > upper_bound: # if out of prediction interval \n",
    "                    error[i] = 1 # set error to 1 if there an error on current y_hat\n",
    "    \n",
    "                error_rate = np.mean(error) # get the mean of the error rates \n",
    "        \n",
    "        else:\n",
    "            error_rate = None\n",
    "            \n",
    "        return prediction_interval, error_rate\n",
    "    \n",
    "    \n",
    "        def get_calibration_curve(self, X_test, y_test, get_inter = False):\n",
    "            \n",
    "            \"\"\"\n",
    "            This function produces a calibration curve to check the validitiy of the confornal predictor. Also, if \n",
    "            get_inter = True, then the intervals for error rates between 0.01 and 1 with step 0.01 may be obtained. \n",
    "            \"\"\"\n",
    "            \n",
    "            error_rates = np.arange(0.01, 1, 0.01) # get error rates in range 0.01 to 1 with step 0.01\n",
    "            test_error_rates = np.zeros(error_rates.size)\n",
    "            all_inter = np.zeros(error_rates.size)\n",
    "            \n",
    "            for i in range(error_rate.size):\n",
    "                # use previous function to get test error rate for current error rate in loop\n",
    "                predict_inter, t_error_rate = get_prediction_interval(error_rate[i], True, X_test, y_test)\n",
    "                test_error_rates[i] = t_error_rate\n",
    "                all_inter[i] = predict_inter\n",
    "            \n",
    "            plt.plot(error_rates, test_error_rates) # plot the calibration curve \n",
    "            plt.xlabel('error rate')\n",
    "            plt.ylabel('test error rate')\n",
    "            plt.title('Calibration curve')\n",
    "            plt.show()\n",
    "            \n",
    "            if get_inter == False:\n",
    "                all_inter = None\n",
    "            \n",
    "            return all_inter\n",
    "        "
   ]
  },
  {
   "cell_type": "code",
   "execution_count": 27,
   "id": "3a4e98bb",
   "metadata": {},
   "outputs": [
    {
     "name": "stdout",
     "output_type": "stream",
     "text": [
      "(12.256428108431209, 0.041935483870967745)\n"
     ]
    }
   ],
   "source": [
    "mlp = MLPRegressor(random_state = 3, alpha = 0.0025, beta_1 = 0.99, max_iter = 1000)\n",
    "cross_stock = cross_confrom_regress(X_train, y_train, mlp)\n",
    "pred_inter = cross_stock.get_prediction_interval(0.05, True, X_test, y_test)\n",
    "print(pred_inter)"
   ]
  }
 ],
 "metadata": {
  "kernelspec": {
   "display_name": "Python 3 (ipykernel)",
   "language": "python",
   "name": "python3"
  },
  "language_info": {
   "codemirror_mode": {
    "name": "ipython",
    "version": 3
   },
   "file_extension": ".py",
   "mimetype": "text/x-python",
   "name": "python",
   "nbconvert_exporter": "python",
   "pygments_lexer": "ipython3",
   "version": "3.9.7"
  }
 },
 "nbformat": 4,
 "nbformat_minor": 5
}
