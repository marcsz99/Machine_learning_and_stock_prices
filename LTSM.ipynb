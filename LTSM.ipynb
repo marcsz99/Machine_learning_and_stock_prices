{
 "cells": [
  {
   "cell_type": "markdown",
   "id": "910d35a0",
   "metadata": {},
   "source": [
    "# LTSM - Stock price prediction"
   ]
  },
  {
   "cell_type": "markdown",
   "id": "cc7f7241",
   "metadata": {},
   "source": [
    "In this notebook I am trying to predict next day close prices using a neural net containg LTSM cells. \n",
    "The reasoming behind the model choice is that we are dealinfg with time series data so an RNN structure is desired. LTSM cells are used as they help deal with the vanashing gradient problem seen in RNNs. "
   ]
  },
  {
   "cell_type": "markdown",
   "id": "e8010caf",
   "metadata": {},
   "source": [
    "## Get the data "
   ]
  },
  {
   "cell_type": "code",
   "execution_count": 1,
   "id": "324e086b",
   "metadata": {},
   "outputs": [],
   "source": [
    "import numpy as np\n",
    "import pandas_datareader as pdr"
   ]
  },
  {
   "cell_type": "code",
   "execution_count": 2,
   "id": "39dc66f3",
   "metadata": {},
   "outputs": [],
   "source": [
    "df = pdr.get_data_yahoo('NVDA')"
   ]
  },
  {
   "cell_type": "code",
   "execution_count": 3,
   "id": "12e6fad0",
   "metadata": {},
   "outputs": [
    {
     "data": {
      "text/html": [
       "<div>\n",
       "<style scoped>\n",
       "    .dataframe tbody tr th:only-of-type {\n",
       "        vertical-align: middle;\n",
       "    }\n",
       "\n",
       "    .dataframe tbody tr th {\n",
       "        vertical-align: top;\n",
       "    }\n",
       "\n",
       "    .dataframe thead th {\n",
       "        text-align: right;\n",
       "    }\n",
       "</style>\n",
       "<table border=\"1\" class=\"dataframe\">\n",
       "  <thead>\n",
       "    <tr style=\"text-align: right;\">\n",
       "      <th></th>\n",
       "      <th>High</th>\n",
       "      <th>Low</th>\n",
       "      <th>Open</th>\n",
       "      <th>Close</th>\n",
       "      <th>Volume</th>\n",
       "      <th>Adj Close</th>\n",
       "    </tr>\n",
       "    <tr>\n",
       "      <th>Date</th>\n",
       "      <th></th>\n",
       "      <th></th>\n",
       "      <th></th>\n",
       "      <th></th>\n",
       "      <th></th>\n",
       "      <th></th>\n",
       "    </tr>\n",
       "  </thead>\n",
       "  <tbody>\n",
       "    <tr>\n",
       "      <th>2017-05-30</th>\n",
       "      <td>36.572498</td>\n",
       "      <td>35.762501</td>\n",
       "      <td>35.924999</td>\n",
       "      <td>36.217499</td>\n",
       "      <td>98965200.0</td>\n",
       "      <td>35.823048</td>\n",
       "    </tr>\n",
       "    <tr>\n",
       "      <th>2017-05-31</th>\n",
       "      <td>36.750000</td>\n",
       "      <td>35.512501</td>\n",
       "      <td>36.672501</td>\n",
       "      <td>36.087502</td>\n",
       "      <td>88731600.0</td>\n",
       "      <td>35.694462</td>\n",
       "    </tr>\n",
       "    <tr>\n",
       "      <th>2017-06-01</th>\n",
       "      <td>36.257500</td>\n",
       "      <td>35.630001</td>\n",
       "      <td>36.247501</td>\n",
       "      <td>36.090000</td>\n",
       "      <td>50334000.0</td>\n",
       "      <td>35.696938</td>\n",
       "    </tr>\n",
       "    <tr>\n",
       "      <th>2017-06-02</th>\n",
       "      <td>36.325001</td>\n",
       "      <td>35.849998</td>\n",
       "      <td>36.060001</td>\n",
       "      <td>35.910000</td>\n",
       "      <td>48745600.0</td>\n",
       "      <td>35.518906</td>\n",
       "    </tr>\n",
       "    <tr>\n",
       "      <th>2017-06-05</th>\n",
       "      <td>37.132500</td>\n",
       "      <td>35.627499</td>\n",
       "      <td>35.744999</td>\n",
       "      <td>37.002499</td>\n",
       "      <td>81737600.0</td>\n",
       "      <td>36.599499</td>\n",
       "    </tr>\n",
       "  </tbody>\n",
       "</table>\n",
       "</div>"
      ],
      "text/plain": [
       "                 High        Low       Open      Close      Volume  Adj Close\n",
       "Date                                                                         \n",
       "2017-05-30  36.572498  35.762501  35.924999  36.217499  98965200.0  35.823048\n",
       "2017-05-31  36.750000  35.512501  36.672501  36.087502  88731600.0  35.694462\n",
       "2017-06-01  36.257500  35.630001  36.247501  36.090000  50334000.0  35.696938\n",
       "2017-06-02  36.325001  35.849998  36.060001  35.910000  48745600.0  35.518906\n",
       "2017-06-05  37.132500  35.627499  35.744999  37.002499  81737600.0  36.599499"
      ]
     },
     "execution_count": 3,
     "metadata": {},
     "output_type": "execute_result"
    }
   ],
   "source": [
    "df.head()"
   ]
  },
  {
   "cell_type": "code",
   "execution_count": 4,
   "id": "4ba0fd4b",
   "metadata": {},
   "outputs": [],
   "source": [
    "X = df.iloc[:, [0, 1, 2, 4, 5]]\n",
    "y = df.iloc[:, 3:4] "
   ]
  },
  {
   "cell_type": "markdown",
   "id": "c864996b",
   "metadata": {},
   "source": [
    "## Data preprocesing "
   ]
  },
  {
   "cell_type": "code",
   "execution_count": 5,
   "id": "b3d31866",
   "metadata": {},
   "outputs": [],
   "source": [
    "from sklearn.preprocessing import StandardScaler, MinMaxScaler\n",
    "mm = MinMaxScaler()\n",
    "ss = StandardScaler()\n",
    "\n",
    "X_ss = ss.fit_transform(X)\n",
    "y_mm = mm.fit_transform(y) "
   ]
  },
  {
   "cell_type": "code",
   "execution_count": 6,
   "id": "64ffcd9d",
   "metadata": {},
   "outputs": [],
   "source": [
    "#300 for training\n",
    "\n",
    "X_train = X_ss[700:1000, :]\n",
    "X_test = X_ss[1000:1200, :]\n",
    "\n",
    "y_train = y_mm[701:1001, :] # shift over by 1 for next day \n",
    "y_test = y_mm[1001:1201, :] "
   ]
  },
  {
   "cell_type": "markdown",
   "id": "ef452192",
   "metadata": {},
   "source": [
    "I have scaled the X data as it's attributes are on a different scale e.g. volume and open. I have also \n",
    "scaled the y data to keep the magnitude of the loses under control."
   ]
  },
  {
   "cell_type": "code",
   "execution_count": 7,
   "id": "63004c58",
   "metadata": {
    "scrolled": true
   },
   "outputs": [
    {
     "name": "stdout",
     "output_type": "stream",
     "text": [
      "Training Shape (300, 5) (300, 1)\n",
      "Testing Shape (200, 5) (200, 1)\n"
     ]
    }
   ],
   "source": [
    "print(\"Training Shape\", X_train.shape, y_train.shape)\n",
    "print(\"Testing Shape\", X_test.shape, y_test.shape) "
   ]
  },
  {
   "cell_type": "code",
   "execution_count": 8,
   "id": "ee453344",
   "metadata": {},
   "outputs": [],
   "source": [
    "import torch #pytorch\n",
    "import torch.nn as nn\n",
    "from torch.autograd import Variable "
   ]
  },
  {
   "cell_type": "code",
   "execution_count": 9,
   "id": "4a4455db",
   "metadata": {},
   "outputs": [],
   "source": [
    "X_train_tensors = Variable(torch.Tensor(X_train))\n",
    "X_test_tensors = Variable(torch.Tensor(X_test))\n",
    "\n",
    "y_train_tensors = Variable(torch.Tensor(y_train))\n",
    "y_test_tensors = Variable(torch.Tensor(y_test)) "
   ]
  },
  {
   "cell_type": "code",
   "execution_count": 10,
   "id": "27da27ee",
   "metadata": {},
   "outputs": [],
   "source": [
    "#reshaping to rows, timestamps, features\n",
    "\n",
    "X_train_tensors_final = torch.reshape(X_train_tensors,   (X_train_tensors.shape[0], 1, X_train_tensors.shape[1]))\n",
    "\n",
    "\n",
    "X_test_tensors_final = torch.reshape(X_test_tensors,  (X_test_tensors.shape[0], 1, X_test_tensors.shape[1])) "
   ]
  },
  {
   "cell_type": "code",
   "execution_count": 11,
   "id": "7452178d",
   "metadata": {
    "scrolled": true
   },
   "outputs": [
    {
     "name": "stdout",
     "output_type": "stream",
     "text": [
      "Training Shape torch.Size([300, 1, 5]) torch.Size([300, 1])\n",
      "Testing Shape torch.Size([200, 1, 5]) torch.Size([200, 1])\n"
     ]
    }
   ],
   "source": [
    "print(\"Training Shape\", X_train_tensors_final.shape, y_train_tensors.shape)\n",
    "print(\"Testing Shape\", X_test_tensors_final.shape, y_test_tensors.shape) \n"
   ]
  },
  {
   "cell_type": "markdown",
   "id": "854a327c",
   "metadata": {},
   "source": [
    "## Defining the model"
   ]
  },
  {
   "cell_type": "code",
   "execution_count": 13,
   "id": "497682a2",
   "metadata": {},
   "outputs": [],
   "source": [
    "class LSTM1(nn.Module):\n",
    "    def __init__(self, num_classes, input_size, hidden_size, num_layers, seq_length):\n",
    "        super(LSTM1, self).__init__()\n",
    "        self.num_classes = num_classes #number of classes\n",
    "        self.num_layers = num_layers #number of layers\n",
    "        self.input_size = input_size #input size\n",
    "        self.hidden_size = hidden_size #hidden state\n",
    "        self.seq_length = seq_length #sequence length\n",
    "\n",
    "        self.lstm = nn.LSTM(input_size=input_size, hidden_size=hidden_size,\n",
    "                          num_layers=num_layers, batch_first=True) #lstm\n",
    "        self.fc_1 =  nn.Linear(hidden_size, 128) #fully connected 1\n",
    "        self.fc = nn.Linear(128, num_classes) #fully connected last layer\n",
    "\n",
    "        self.relu = nn.ReLU()\n",
    "    \n",
    "    def forward(self,x):\n",
    "        h_0 = Variable(torch.zeros(self.num_layers, x.size(0), self.hidden_size)) #hidden state\n",
    "        c_0 = Variable(torch.zeros(self.num_layers, x.size(0), self.hidden_size)) #internal state\n",
    "        # Propagate input through LSTM\n",
    "        output, (hn, cn) = self.lstm(x, (h_0, c_0)) #lstm with input, hidden, and internal state\n",
    "        hn = hn.view(-1, self.hidden_size) #reshaping the data for Dense layer next\n",
    "        out = self.relu(hn)\n",
    "        out = self.fc_1(out) #first Dense\n",
    "        out = self.relu(out) #relu\n",
    "        out = self.fc(out) #Final Output\n",
    "        return out"
   ]
  },
  {
   "cell_type": "code",
   "execution_count": 26,
   "id": "9cb9bef1",
   "metadata": {},
   "outputs": [],
   "source": [
    "num_epochs = 1000 #1000 epochs\n",
    "learning_rate = 0.001 #0.001 lr\n",
    "\n",
    "input_size = 5 #number of features\n",
    "hidden_size = 100 #number of features in hidden state\n",
    "num_layers = 1 #number of stacked lstm layers\n",
    "\n",
    "num_classes = 1 #number of output classes "
   ]
  },
  {
   "cell_type": "code",
   "execution_count": 27,
   "id": "3b3d43a6",
   "metadata": {},
   "outputs": [],
   "source": [
    "lstm1 = LSTM1(num_classes, input_size, hidden_size, num_layers, X_train_tensors_final.shape[1]) #our lstm class \n"
   ]
  },
  {
   "cell_type": "code",
   "execution_count": 28,
   "id": "6408ac0c",
   "metadata": {},
   "outputs": [],
   "source": [
    "criterion = torch.nn.MSELoss()    # mean-squared error for regression\n",
    "optimizer = torch.optim.Adam(lstm1.parameters(), lr=learning_rate)"
   ]
  },
  {
   "cell_type": "code",
   "execution_count": 29,
   "id": "60dde246",
   "metadata": {
    "scrolled": true
   },
   "outputs": [
    {
     "name": "stdout",
     "output_type": "stream",
     "text": [
      "Epoch: 0, loss: 0.10153\n",
      "Epoch: 100, loss: 0.00022\n",
      "Epoch: 200, loss: 0.00013\n",
      "Epoch: 300, loss: 0.00013\n",
      "Epoch: 400, loss: 0.00012\n",
      "Epoch: 500, loss: 0.00011\n",
      "Epoch: 600, loss: 0.00011\n",
      "Epoch: 700, loss: 0.00011\n",
      "Epoch: 800, loss: 0.00011\n",
      "Epoch: 900, loss: 0.00011\n"
     ]
    }
   ],
   "source": [
    "torch.manual_seed(16) # set seed to get reproducibility of results \n",
    "\n",
    "for epoch in range(num_epochs):\n",
    "  outputs = lstm1.forward(X_train_tensors_final) #forward pass\n",
    "  optimizer.zero_grad() #caluclate the gradient, manually setting to 0\n",
    " \n",
    "  # obtain the loss function\n",
    "  loss = criterion(outputs, y_train_tensors)\n",
    " \n",
    "  loss.backward() #calculates the loss of the loss function\n",
    " \n",
    "  optimizer.step() #improve from loss, i.e backprop\n",
    "  if epoch % 100 == 0:\n",
    "    print(\"Epoch: %d, loss: %1.5f\" % (epoch, loss.item())) "
   ]
  },
  {
   "cell_type": "code",
   "execution_count": 30,
   "id": "dc1afbac",
   "metadata": {},
   "outputs": [],
   "source": [
    "with torch.no_grad():\n",
    "    pred_y_test = lstm1.forward(X_test_tensors_final)\n",
    "    pred_y_train = lstm1.forward(X_train_tensors_final)"
   ]
  },
  {
   "cell_type": "code",
   "execution_count": 31,
   "id": "dbceb485",
   "metadata": {},
   "outputs": [],
   "source": [
    "pred_y_test = pred_y_test.data.numpy()\n",
    "pred_y_train = pred_y_train.data.numpy()"
   ]
  },
  {
   "cell_type": "code",
   "execution_count": 32,
   "id": "e48bab7f",
   "metadata": {},
   "outputs": [],
   "source": [
    "real_y_test = y_test_tensors.data.numpy()\n",
    "real_y_train = y_train_tensors.data.numpy()"
   ]
  },
  {
   "cell_type": "code",
   "execution_count": 33,
   "id": "e9937cd7",
   "metadata": {
    "scrolled": false
   },
   "outputs": [
    {
     "name": "stdout",
     "output_type": "stream",
     "text": [
      "The test MSE is: 0.4206023\n",
      "The train MSE is: 0.032311074\n"
     ]
    }
   ],
   "source": [
    "test_MSE = np.sum(np.square(pred_y_test - real_y_test))\n",
    "train_MSE = np.sum(np.square(pred_y_train - real_y_train))\n",
    "print('The test MSE is:', test_MSE)\n",
    "print('The train MSE is:', train_MSE)"
   ]
  },
  {
   "cell_type": "code",
   "execution_count": 34,
   "id": "73afe438",
   "metadata": {
    "scrolled": true
   },
   "outputs": [
    {
     "data": {
      "text/plain": [
       "[<matplotlib.lines.Line2D at 0x2a6cdae8190>]"
      ]
     },
     "execution_count": 34,
     "metadata": {},
     "output_type": "execute_result"
    },
    {
     "data": {
      "image/png": "[encoded data removed]",
      "text/plain": [
       "<Figure size 432x288 with 1 Axes>"
      ]
     },
     "metadata": {
      "needs_background": "light"
     },
     "output_type": "display_data"
    }
   ],
   "source": [
    "import matplotlib.pyplot as plt \n",
    "\n",
    "plt.plot(real_y_test)\n",
    "plt.plot(pred_y_test)"
   ]
  },
  {
   "cell_type": "markdown",
   "id": "af6e3bd8",
   "metadata": {},
   "source": [
    "In the above figure we can see that model preforms relativally well in the early days of the test set.\n",
    "However, as time increases the real labels seem to diverge away from the predicted labels. This is beacause the model is making predictions from data that is 20, 40, or even 200 days old. Even though the model has been trained to optimise predictions on the current data. This makes it a poor predictor for lables that are much further ahead in time to the 'seen' train data. Therefore, to properly asses the accuarcy of a time depependent neural net, a new model containing all the data available up to that point in time must be trained to make an accurate prediction. So, if 200 testing predictions are too made 200 models are to be trained. In the following cells I try to use this idea to get a better picture of model accuary. "
   ]
  },
  {
   "cell_type": "code",
   "execution_count": 35,
   "id": "7872a844",
   "metadata": {},
   "outputs": [],
   "source": [
    "def train_model(X_train, y_train):\n",
    "    \"\"\"\n",
    "    This function takes a train dataset as input and oupputs a trained model. \n",
    "    \n",
    "    \"\"\"\n",
    "    #First reinalitialse the model\n",
    "    lstm1 = LSTM1(num_classes, input_size, hidden_size, num_layers, X_train_tensors_final.shape[1])\n",
    "    criterion = torch.nn.MSELoss()    # mean-squared error for regression\n",
    "    optimizer = torch.optim.Adam(lstm1.parameters(), lr=learning_rate)\n",
    "    \n",
    "    for epoch in range(num_epochs):\n",
    "        \n",
    "        \n",
    "        outputs = lstm1.forward(X_train) #forward pass\n",
    "        optimizer.zero_grad() #caluclate the gradient, manually setting to 0\n",
    " \n",
    "        # obtain the loss function\n",
    "        loss = criterion(outputs, y_train_tensors)\n",
    " \n",
    "        loss.backward() #calculates the loss of the loss function\n",
    " \n",
    "        optimizer.step() #improve from loss, i.e backprop\n",
    "        \n",
    "    return lstm1\n",
    "    "
   ]
  },
  {
   "cell_type": "code",
   "execution_count": 368,
   "id": "dd03e8ec",
   "metadata": {
    "scrolled": true
   },
   "outputs": [
    {
     "name": "stdout",
     "output_type": "stream",
     "text": [
      "----------------\n",
      "0.0 % complete !\n",
      "----------------\n",
      "5.0 % complete !\n",
      "----------------\n",
      "10.0 % complete !\n",
      "----------------\n",
      "15.0 % complete !\n",
      "----------------\n",
      "20.0 % complete !\n",
      "----------------\n",
      "25.0 % complete !\n",
      "----------------\n",
      "30.0 % complete !\n",
      "----------------\n",
      "35.0 % complete !\n",
      "----------------\n",
      "40.0 % complete !\n",
      "----------------\n",
      "45.0 % complete !\n",
      "----------------\n",
      "50.0 % complete !\n",
      "----------------\n",
      "55.0 % complete !\n",
      "----------------\n",
      "60.0 % complete !\n",
      "----------------\n",
      "65.0 % complete !\n",
      "----------------\n",
      "70.0 % complete !\n",
      "----------------\n",
      "75.0 % complete !\n",
      "----------------\n",
      "80.0 % complete !\n",
      "----------------\n",
      "85.0 % complete !\n",
      "----------------\n",
      "90.0 % complete !\n",
      "----------------\n",
      "95.0 % complete !\n",
      "The test MSE is: 0.31693326181685144\n"
     ]
    }
   ],
   "source": [
    "no_test_samp = 200\n",
    "\n",
    "abs_real_pred = np.zeros(no_test_samp) # the absoulute value between the predicted and real label\n",
    "predicted_labels = np.zeros(no_test_samp)\n",
    "real_labels = np.zeros(no_test_samp)\n",
    "\n",
    "torch.manual_seed(16) # set seed to get reproducibility of results \n",
    "\n",
    "for i in range(no_test_samp):\n",
    "    \n",
    "    # First we prepare the new train set\n",
    "    X_train = X_ss[700 + i : 1000 + i, :] # train up to 1000 + i - 1\n",
    "    X_test = X_ss[i  + 1000, :] # test for 1000 + i\n",
    "\n",
    "    y_train = y_mm[701 + i : 1001 + i, :]\n",
    "    y_test = y_mm[i + 1001, :] \n",
    "\n",
    "    X_train_tensors = Variable(torch.Tensor(X_train))\n",
    "    X_test_tensors = Variable(torch.Tensor(X_test))\n",
    "\n",
    "    y_train_tensors = Variable(torch.Tensor(y_train))\n",
    "    y_test_tensors = Variable(torch.Tensor(y_test)) \n",
    "    \n",
    "    X_train_tensors_final = torch.reshape(X_train_tensors,   (X_train_tensors.shape[0], 1, X_train_tensors.shape[1]))\n",
    "\n",
    "    X_test_tensors_final = torch.reshape(X_test_tensors,  (1, 1, X_test_tensors.shape[0]))\n",
    "    \n",
    "    # Now we train the model for the current train set\n",
    "    current_model = train_model(X_train_tensors_final, y_train_tensors)\n",
    "    \n",
    "    with torch.no_grad():\n",
    "        predicted_label = lstm1.forward(X_test_tensors_final)\n",
    "        \n",
    "    predicted_label = predicted_label.data.numpy()\n",
    "    predicted_labels[i] = predicted_label\n",
    "    \n",
    "    real_label = y_test_tensors.data.numpy()\n",
    "    real_labels[i] = real_label\n",
    "    \n",
    "    abs_real_pred[i] = abs(predicted_label - real_label)\n",
    "    \n",
    "    if i % 10 == 0:\n",
    "        conv_pec =  no_test_samp / 100 # factor needed to convert i to percentage \n",
    "        print('----------------')\n",
    "        print(str(i / conv_pec) + ' % complete !')\n",
    "    \n",
    "\n",
    "    \n",
    "test_mse = np.mean(np.sum(np.square(abs_real_pred)))\n",
    "    \n",
    "print('The test MSE is:', test_mse)\n"
   ]
  },
  {
   "cell_type": "code",
   "execution_count": 369,
   "id": "02d3c3ce",
   "metadata": {
    "scrolled": false
   },
   "outputs": [
    {
     "data": {
      "text/plain": [
       "Text(0, 0.5, 'Min Max nomalised stock data')"
      ]
     },
     "execution_count": 369,
     "metadata": {},
     "output_type": "execute_result"
    },
    {
     "data": {
      "image/png": "[encoded data removed]",
      "text/plain": [
       "<Figure size 432x288 with 1 Axes>"
      ]
     },
     "metadata": {
      "needs_background": "light"
     },
     "output_type": "display_data"
    }
   ],
   "source": [
    "\n",
    "plt.plot(real_labels)\n",
    "plt.plot(predicted_labels)\n",
    "plt.xlabel('day')\n",
    "plt.ylabel('Min Max nomalised stock data')\n"
   ]
  },
  {
   "cell_type": "markdown",
   "id": "0c3245e4",
   "metadata": {},
   "source": [
    "The test MSE when all the avaiable data is used to generate the test prediction is better with the test MSE being 0.3169 with the testing current method and 0.5565 with the previous. However, this method is very computationally efficent with 200 models that need training. So, for optimising the hyper parameters of the model I will try and find a comprimise of the two testing methods. "
   ]
  },
  {
   "cell_type": "code",
   "execution_count": 370,
   "id": "f24d6f24",
   "metadata": {
    "scrolled": true
   },
   "outputs": [],
   "source": [
    "y_unscaled = mm.inverse_transform(real_labels.reshape(-1, 1))\n",
    "yhat_unscaled = mm.inverse_transform(predicted_labels.reshape(-1,1))"
   ]
  },
  {
   "cell_type": "code",
   "execution_count": 371,
   "id": "784f0b7c",
   "metadata": {
    "scrolled": false
   },
   "outputs": [
    {
     "data": {
      "text/plain": [
       "[<matplotlib.lines.Line2D at 0x251b3674c10>]"
      ]
     },
     "execution_count": 371,
     "metadata": {},
     "output_type": "execute_result"
    },
    {
     "data": {
      "image/png": "[encoded data removed]",
      "text/plain": [
       "<Figure size 432x288 with 1 Axes>"
      ]
     },
     "metadata": {
      "needs_background": "light"
     },
     "output_type": "display_data"
    }
   ],
   "source": [
    "plt.plot(y_unscaled)\n",
    "plt.plot(yhat_unscaled)"
   ]
  },
  {
   "cell_type": "markdown",
   "id": "cbf01aa5",
   "metadata": {},
   "source": [
    "This is an unscaled graphical representation of the predicted lables (orange) and the real labels (blue), which is over a 200 day testing period. It seems that the model tends underpredict upward trends. However, it does well on downward trends. "
   ]
  },
  {
   "cell_type": "code",
   "execution_count": 372,
   "id": "5b069cef",
   "metadata": {
    "scrolled": true
   },
   "outputs": [
    {
     "data": {
      "text/plain": [
       "<matplotlib.collections.PathCollection at 0x251b36e2fd0>"
      ]
     },
     "execution_count": 372,
     "metadata": {},
     "output_type": "execute_result"
    },
    {
     "data": {
      "image/png": "[encoded data removed]",
      "text/plain": [
       "<Figure size 432x288 with 1 Axes>"
      ]
     },
     "metadata": {
      "needs_background": "light"
     },
     "output_type": "display_data"
    }
   ],
   "source": [
    "ss_residuals = StandardScaler()\n",
    "residuals = yhat_unscaled - y_unscaled\n",
    "standardised_residuals = ss_residuals.fit_transform(residuals)\n",
    "plt.scatter(range(200), standardised_residuals)"
   ]
  },
  {
   "cell_type": "markdown",
   "id": "73a59ca2",
   "metadata": {},
   "source": [
    "The above shows a plot of the standardised residuals of the model in it's current format. Two observartions can be made. One is that the largest residuals are all as a result of underprediction. The second is that the large residuals (with absoulte value > 2) are found in the final 75 days of the test set. Apon inpection of the plot of real labels the final 75 days seems to have a much higher volitilty than the rest of the dataset. This could be an explanation for the high residuals."
   ]
  },
  {
   "cell_type": "code",
   "execution_count": 396,
   "id": "d7f4dfa7",
   "metadata": {
    "scrolled": true
   },
   "outputs": [
    {
     "data": {
      "text/plain": [
       "<matplotlib.lines.Line2D at 0x251b3993f70>"
      ]
     },
     "execution_count": 396,
     "metadata": {},
     "output_type": "execute_result"
    },
    {
     "data": {
      "image/png": "[encoded data removed]",
      "text/plain": [
       "<Figure size 432x288 with 1 Axes>"
      ]
     },
     "metadata": {
      "needs_background": "light"
     },
     "output_type": "display_data"
    }
   ],
   "source": [
    "\n",
    "y_tt_unscaled = mm.inverse_transform(y_mm[701:1201])\n",
    "plt.plot(y_tt_unscaled)\n",
    "#plt.plot(y_mm)\n",
    "# y test train unscaled \n",
    "plt.axvline(300, color='red')"
   ]
  },
  {
   "cell_type": "markdown",
   "id": "001188b8",
   "metadata": {},
   "source": [
    "The graph above shows the labels used soley for training on the left of the red line. On the right we have the labels used for testing / training depending on the labels postion to the cuurent test label.\n",
    "Interstingly the train samples seem to show a slower less volitile trend as opposed to the test data which shows rapid upward trend. This may explain why the model tends to underpredict as it has not seen such a radid tend in it's training data. This leads me to belive that overtraining may be occuring here as the model is focusing on the pecularties of the train set as opposed to the genral data generating distribution. So, in my next notebook I will investigate the use of regularisation methods to prevent overtraing from occuring. "
   ]
  }
 ],
 "metadata": {
  "kernelspec": {
   "display_name": "Python 3 (ipykernel)",
   "language": "python",
   "name": "python3"
  },
  "language_info": {
   "codemirror_mode": {
    "name": "ipython",
    "version": 3
   },
   "file_extension": ".py",
   "mimetype": "text/x-python",
   "name": "python",
   "nbconvert_exporter": "python",
   "pygments_lexer": "ipython3",
   "version": "3.9.7"
  }
 },
 "nbformat": 4,
 "nbformat_minor": 5
}
